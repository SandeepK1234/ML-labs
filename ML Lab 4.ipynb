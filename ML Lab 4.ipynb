{
 "cells": [
  {
   "cell_type": "code",
   "execution_count": 1,
   "metadata": {},
   "outputs": [
    {
     "name": "stdout",
     "output_type": "stream",
     "text": [
      "Input: \n",
      " [[0.05 0.1 ]]\n",
      "Actual Output: \n",
      " [[0.01 0.99]]\n",
      "Predicted Output: \n",
      " [[0.01590981 0.98406729]]\n"
     ]
    }
   ],
   "source": [
    "import numpy as np\n",
    "x=np.array(([0.05,0.10],),dtype=float)\n",
    "y=np.array(([0.01,0.99],),dtype=float)\n",
    "#sigmoid function\n",
    "def sigmoid(x):\n",
    "    return 1/(1+np.exp(-x))\n",
    "#derivative of sigmoid function\n",
    "def derivatives_sigmoid(x):\n",
    "    return x*(1-x)\n",
    "epoch=10000\n",
    "lr=0.5\n",
    "wh=np.array(([0.15,0.20],[0.25,0.30]))\n",
    "bh=np.array([0.35,])\n",
    "wout=np.array(([0.4,0.45],[0.5,0.55]))\n",
    "bout=np.array([0.6,])\n",
    "for i in range(epoch):\n",
    "    hinpl=np.dot(x,wh)\n",
    "    hinp=hinpl+bh\n",
    "    hlayer_act=sigmoid(hinp)\n",
    "    outinpl=np.dot(hlayer_act,wout)\n",
    "    outinp=outinpl+bout\n",
    "    output=sigmoid(outinp)\n",
    "    eo=y-output\n",
    "    outgrad=derivatives_sigmoid(output)\n",
    "    d_output=eo*outgrad\n",
    "    eh=d_output.dot(wout.T)\n",
    "    hiddengrad=derivatives_sigmoid(hlayer_act)\n",
    "    d_hiddenlayer=eh*hiddengrad\n",
    "    wout+=hlayer_act.T.dot(d_output)*lr\n",
    "    wh+=x.T.dot(d_hiddenlayer)*lr\n",
    "print(\"Input: \\n\",x)\n",
    "print(\"Actual Output: \\n\",y)\n",
    "print(\"Predicted Output: \\n\",output)"
   ]
  },
  {
   "cell_type": "code",
   "execution_count": null,
   "metadata": {},
   "outputs": [],
   "source": []
  }
 ],
 "metadata": {
  "kernelspec": {
   "display_name": "Python 3",
   "language": "python",
   "name": "python3"
  },
  "language_info": {
   "codemirror_mode": {
    "name": "ipython",
    "version": 3
   },
   "file_extension": ".py",
   "mimetype": "text/x-python",
   "name": "python",
   "nbconvert_exporter": "python",
   "pygments_lexer": "ipython3",
   "version": "3.7.6"
  }
 },
 "nbformat": 4,
 "nbformat_minor": 4
}
