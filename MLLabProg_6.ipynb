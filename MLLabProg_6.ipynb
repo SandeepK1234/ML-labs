{
  "nbformat": 4,
  "nbformat_minor": 0,
  "metadata": {
    "kernelspec": {
      "display_name": "Python 3",
      "language": "python",
      "name": "python3"
    },
    "language_info": {
      "codemirror_mode": {
        "name": "ipython",
        "version": 3
      },
      "file_extension": ".py",
      "mimetype": "text/x-python",
      "name": "python",
      "nbconvert_exporter": "python",
      "pygments_lexer": "ipython3",
      "version": "3.6.3"
    },
    "colab": {
      "name": "LabProgram_6.ipynb",
      "provenance": []
    }
  },
  "cells": [
    {
      "cell_type": "markdown",
      "metadata": {
        "id": "5HY-EvWIccGq"
      },
      "source": [
        "# Lab Program 6\n",
        "\n",
        "Assuming a set of documents that need to be classified, use the naïve Bayesian Classifier model to perform this task. Built-in Java classes/API can be used to write the program. Calculate the accuracy, precision, and recall for your data set. "
      ]
    },
    {
      "cell_type": "code",
      "metadata": {
        "id": "oTPCjouOcYwq"
      },
      "source": [
        "from sklearn.naive_bayes import MultinomialNB\n",
        "from sklearn.datasets import fetch_20newsgroups\n",
        "from sklearn.feature_extraction.text import CountVectorizer\n",
        "from sklearn.pipeline import Pipeline\n",
        "from sklearn import metrics\n",
        "import numpy as np"
      ],
      "execution_count": 11,
      "outputs": []
    },
    {
      "cell_type": "code",
      "metadata": {
        "id": "3IPypPw0cYxE",
        "colab": {
          "base_uri": "https://localhost:8080/"
        },
        "outputId": "4484205a-ffff-423c-a087-21de87e4be68"
      },
      "source": [
        "categories = ['alt.atheism', 'soc.religion.christian','comp.graphics', 'sci.med']\n",
        "twenty_train = fetch_20newsgroups(subset='train', categories=categories, shuffle=True, random_state=2)\n",
        "docs_train=twenty_train.data\n",
        "\n",
        "\n",
        "twenty_test = fetch_20newsgroups(subset='test',categories=categories, shuffle=True, random_state=2)\n",
        "docs_test = twenty_test.data\n",
        "\n",
        "\n",
        "text_clf = Pipeline([('vect', CountVectorizer()),\n",
        "                      ('clf', MultinomialNB()),\n",
        " ])\n",
        "text_clf.fit(twenty_train.data, twenty_train.target)\n",
        "\n",
        "predicted = text_clf.predict(docs_test)\n",
        "print(\"Mean=\",np.mean(predicted == twenty_test.target))\n",
        "    \n",
        "print(\"Accuracy for the dataset\\n\")\n",
        "print(metrics.classification_report(twenty_test.target, predicted, target_names=twenty_test.target_names))"
      ],
      "execution_count": 12,
      "outputs": [
        {
          "output_type": "stream",
          "text": [
            "Mean= 0.9340878828229028\n",
            "Accuracy for the dataset\n",
            "\n",
            "                        precision    recall  f1-score   support\n",
            "\n",
            "           alt.atheism       0.92      0.90      0.91       319\n",
            "         comp.graphics       0.95      0.95      0.95       389\n",
            "               sci.med       0.96      0.91      0.93       396\n",
            "soc.religion.christian       0.91      0.97      0.94       398\n",
            "\n",
            "              accuracy                           0.93      1502\n",
            "             macro avg       0.93      0.93      0.93      1502\n",
            "          weighted avg       0.93      0.93      0.93      1502\n",
            "\n"
          ],
          "name": "stdout"
        }
      ]
    },
    {
      "cell_type": "code",
      "metadata": {
        "id": "PvvSajszqrl_"
      },
      "source": [
        ""
      ],
      "execution_count": null,
      "outputs": []
    }
  ]
}