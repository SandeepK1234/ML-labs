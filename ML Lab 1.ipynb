{
 "cells": [
  {
   "cell_type": "code",
   "execution_count": 4,
   "metadata": {},
   "outputs": [
    {
     "name": "stdout",
     "output_type": "stream",
     "text": [
      "\n",
      " The most g hypo is:['?','?','?','?','?','?'j\n",
      "]\n",
      "\n",
      " The most g hypo is:['0','0','0','0','0','0'j\n",
      "]\n",
      "\n",
      " the given training data set\n",
      "['Sunny', 'Warm', 'Normal', 'Strong', 'Warm', 'Same', 'Yes']\n",
      "['Sunny', 'Warm', 'High', 'Strong', 'Warm', 'Same', 'Yes']\n",
      "['Rainy', 'Cold', 'High', 'Strong', 'Warm', 'Change', 'No']\n",
      "['Sunny', 'Warm', 'High', 'Strong', 'Cool', 'Change', 'Yes']\n",
      "the initial value of hypo:\n",
      "['0', '0', '0', '0', '0', '0']\n",
      "\n",
      " find S: amximally spec hypo\n",
      "\n",
      "for tran ex No:0 the hypothesis is  ['Sunny', 'Warm', 'Normal', 'Strong', 'Warm', 'Same']\n",
      "for tran ex No:1 the hypothesis is  ['Sunny', 'Warm', '?', 'Strong', 'Warm', 'Same']\n",
      "for tran ex No:2 the hypothesis is  ['Sunny', 'Warm', '?', 'Strong', 'Warm', 'Same']\n",
      "for tran ex No:3 the hypothesis is  ['Sunny', 'Warm', '?', 'Strong', '?', '?']\n",
      "\n",
      " the m s h :\n",
      "\n",
      "['Sunny', 'Warm', '?', 'Strong', '?', '?']\n"
     ]
    }
   ],
   "source": [
    "import csv\n",
    "attributes=[['sunny','Rainy'],\n",
    "           ['warm','cold'],\n",
    "           ['normal','high'],\n",
    "           ['strong','week'],\n",
    "           ['warm','cool'],\n",
    "           ['same','change']]\n",
    "num_attributes=len(attributes)\n",
    "print(\"\\n The most g hypo is:['?','?','?','?','?','?'j\\n]\")\n",
    "print(\"\\n The most g hypo is:['0','0','0','0','0','0'j\\n]\")\n",
    "a=[]\n",
    "print(\"\\n the given training data set\")\n",
    "with open('1.csv', 'r') as csvFile:\n",
    "    reader=csv.reader(csvFile)\n",
    "    for row in reader:\n",
    "        a.append(row)\n",
    "        print(row)\n",
    "        \n",
    "print(\"the initial value of hypo:\")\n",
    "hypothesis=['0']*num_attributes\n",
    "print(hypothesis)\n",
    "for j in range(0,num_attributes):\n",
    "    hypothesis[j]=a[0][j]\n",
    "    \n",
    "print(\"\\n find S: amximally spec hypo\\n\")\n",
    "for i in range(0,len(a)):\n",
    "    if(a[i][num_attributes]=='Yes'):\n",
    "        for j in range(0,num_attributes):\n",
    "            if a[i][j]!=hypothesis[j]:\n",
    "                hypothesis[j]='?'\n",
    "    print(\"for tran ex No:{0} the hypothesis is \".format(i),hypothesis)\n",
    "print(\"\\n the m s h :\\n\")\n",
    "print(hypothesis)         "
   ]
  },
  {
   "cell_type": "code",
   "execution_count": null,
   "metadata": {},
   "outputs": [],
   "source": []
  }
 ],
 "metadata": {
  "kernelspec": {
   "display_name": "Python 3",
   "language": "python",
   "name": "python3"
  },
  "language_info": {
   "codemirror_mode": {
    "name": "ipython",
    "version": 3
   },
   "file_extension": ".py",
   "mimetype": "text/x-python",
   "name": "python",
   "nbconvert_exporter": "python",
   "pygments_lexer": "ipython3",
   "version": "3.7.6"
  }
 },
 "nbformat": 4,
 "nbformat_minor": 4
}
